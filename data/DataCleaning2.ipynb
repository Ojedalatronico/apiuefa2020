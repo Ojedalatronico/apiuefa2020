{
 "cells": [
  {
   "cell_type": "code",
   "execution_count": 38,
   "metadata": {},
   "outputs": [],
   "source": [
    "import pandas as pd\n",
    "import ast\n",
    "df = pd.read_csv(\"euros2020_results_cleaned.csv\")\n",
    "\n",
    "def str_to_dict(variable:str):\n",
    "    lista=[]\n",
    "    result=df[variable]\n",
    "    for i in range(len(result)):\n",
    "        a=ast.literal_eval(result[i])\n",
    "        lista.append(a)\n",
    "    return lista"
   ]
  },
  {
   "cell_type": "code",
   "execution_count": 39,
   "metadata": {},
   "outputs": [],
   "source": [
    "df[\"events_list\"]=str_to_dict(\"events_list\")"
   ]
  },
  {
   "cell_type": "code",
   "execution_count": 40,
   "metadata": {},
   "outputs": [],
   "source": [
    "yellow_cards_series_home=[]\n",
    "yellow_cards_home=0\n",
    "yellow_cards_series_away=[]\n",
    "yellow_cards_away=0\n",
    "for i in df[\"events_list\"]:\n",
    "    for e in i:\n",
    "        if e[\"event_type\"]==\"Yellow card\" and e[\"event_team\"]==\"home\":\n",
    "            yellow_cards_home+=1\n",
    "        if e[\"event_type\"]==\"Yellow card\" and e[\"event_team\"]==\"away\":\n",
    "            yellow_cards_away+=1\n",
    "    yellow_cards_series_home.append(yellow_cards_home)\n",
    "    yellow_cards_home=0\n",
    "    yellow_cards_series_away.append(yellow_cards_away)\n",
    "    yellow_cards_away=0\n",
    "    \n",
    "red_cards_series_home=[]\n",
    "red_cards_home=0\n",
    "red_cards_series_away=[]\n",
    "red_cards_away=0\n",
    "for i in df[\"events_list\"]:\n",
    "    for e in i:\n",
    "        if e[\"event_type\"]==\"Red card\" and e[\"event_team\"]==\"home\":\n",
    "            red_cards_home+=1\n",
    "        if e[\"event_type\"]==\"Red card\" and e[\"event_team\"]==\"away\":\n",
    "            red_cards_away+=1\n",
    "    red_cards_series_home.append(red_cards_home)\n",
    "    red_home=0\n",
    "    red_cards_series_away.append(red_cards_away)\n",
    "    red_cards_away=0    \n"
   ]
  },
  {
   "cell_type": "code",
   "execution_count": 41,
   "metadata": {},
   "outputs": [],
   "source": [
    "Yellow_cards_away=pd.Series(yellow_cards_series_away)\n",
    "Red_cards_away=pd.Series(red_cards_series_away)\n",
    "Yellow_cards_home=pd.Series(yellow_cards_series_home)\n",
    "Red_cards_home=pd.Series(red_cards_series_home)"
   ]
  },
  {
   "cell_type": "code",
   "execution_count": 42,
   "metadata": {},
   "outputs": [],
   "source": [
    "cards=pd.concat([Yellow_cards_away, Red_cards_away, Yellow_cards_home,Red_cards_home], axis=1)"
   ]
  },
  {
   "cell_type": "code",
   "execution_count": 43,
   "metadata": {},
   "outputs": [],
   "source": [
    "cards.columns=[\"yellow_cards_away\",\"red_cards_away\",\"yellow_cards_home\",\"red_cards_home\"]"
   ]
  },
  {
   "cell_type": "code",
   "execution_count": 44,
   "metadata": {},
   "outputs": [],
   "source": [
    "df=pd.concat([df,cards],axis=1)"
   ]
  },
  {
   "cell_type": "code",
   "execution_count": 45,
   "metadata": {},
   "outputs": [],
   "source": [
    "df.to_csv(\"euros2020_results_cleaned.csv\")"
   ]
  }
 ],
 "metadata": {
  "interpreter": {
   "hash": "b57c0b5ac74a16a120f88aa738ec64687e6b113dd3ff16acde001d6e600b1ae2"
  },
  "kernelspec": {
   "display_name": "Python 3 (ipykernel)",
   "language": "python",
   "name": "python3"
  },
  "language_info": {
   "codemirror_mode": {
    "name": "ipython",
    "version": 3
   },
   "file_extension": ".py",
   "mimetype": "text/x-python",
   "name": "python",
   "nbconvert_exporter": "python",
   "pygments_lexer": "ipython3",
   "version": "3.9.7"
  }
 },
 "nbformat": 4,
 "nbformat_minor": 2
}
