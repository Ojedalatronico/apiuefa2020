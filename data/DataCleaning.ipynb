{
 "cells": [
  {
   "cell_type": "code",
   "execution_count": 15,
   "metadata": {},
   "outputs": [],
   "source": [
    "import pandas as pd\n",
    "import ast\n",
    "df = pd.read_csv(\"euros2020_results.csv\")"
   ]
  },
  {
   "cell_type": "markdown",
   "metadata": {},
   "source": [
    "df"
   ]
  },
  {
   "cell_type": "code",
   "execution_count": 16,
   "metadata": {},
   "outputs": [],
   "source": [
    "df[\"stage\"] = df[\"stage\"].str.strip()\n",
    "df[\"date\"] = df[\"date\"].str.strip()\n",
    "df[\"team_name_home\"] = df[\"team_name_home\"].str.strip()\n",
    "df[\"team_name_away\"] = df[\"team_name_away\"].str.strip()\n",
    "df[\"possession_away\"] = df[\"possession_away\"].str.strip()\n",
    "df[\"possession_home\"] = df[\"possession_home\"].str.strip()\n",
    "\n",
    "df.to_csv(\"euros2020_results_cleaned.csv\")"
   ]
  },
  {
   "cell_type": "code",
   "execution_count": 17,
   "metadata": {},
   "outputs": [],
   "source": [
    "def str_to_dict(variable:str):\n",
    "    lista=[]\n",
    "    result=df[variable]\n",
    "    for i in range(len(result)):\n",
    "        a=ast.literal_eval(result[i])\n",
    "        lista.append(a)\n",
    "    return lista"
   ]
  },
  {
   "cell_type": "code",
   "execution_count": 18,
   "metadata": {},
   "outputs": [],
   "source": [
    "df[\"events_list\"]=str_to_dict(\"events_list\")"
   ]
  },
  {
   "cell_type": "code",
   "execution_count": 19,
   "metadata": {},
   "outputs": [],
   "source": [
    "df[\"lineup_home\"]=str_to_dict(\"lineup_home\")"
   ]
  },
  {
   "cell_type": "code",
   "execution_count": 20,
   "metadata": {},
   "outputs": [],
   "source": [
    "df[\"lineup_away\"]=str_to_dict(\"lineup_away\")"
   ]
  },
  {
   "cell_type": "code",
   "execution_count": 28,
   "metadata": {},
   "outputs": [
    {
     "data": {
      "text/plain": [
       "Index(['stage', 'date', 'pens', 'pens_home_score', 'pens_away_score',\n",
       "       'team_name_home', 'team_name_away', 'team_home_score',\n",
       "       'team_away_score', 'possession_home', 'possession_away',\n",
       "       'total_shots_home', 'total_shots_away', 'shots_on_target_home',\n",
       "       'shots_on_target_away', 'duels_won_home', 'duels_won_away',\n",
       "       'events_list', 'lineup_home', 'lineup_away'],\n",
       "      dtype='object')"
      ]
     },
     "execution_count": 28,
     "metadata": {},
     "output_type": "execute_result"
    }
   ],
   "source": [
    "df.columns"
   ]
  },
  {
   "cell_type": "code",
   "execution_count": 27,
   "metadata": {},
   "outputs": [],
   "source": [
    "df=df.drop(['Unnamed: 0','Unnamed: 0.1','Unnamed: 0.1.1'], axis=1)"
   ]
  },
  {
   "cell_type": "code",
   "execution_count": 29,
   "metadata": {},
   "outputs": [],
   "source": [
    "df.to_csv(\"euros2020_results_cleaned.csv\")"
   ]
  }
 ],
 "metadata": {
  "interpreter": {
   "hash": "b40eb3be7522eaa5356a91787a3fbfed839dfa590a53e554cdf25f34f5f2178a"
  },
  "kernelspec": {
   "display_name": "Python 3 (ipykernel)",
   "language": "python",
   "name": "python3"
  },
  "language_info": {
   "codemirror_mode": {
    "name": "ipython",
    "version": 3
   },
   "file_extension": ".py",
   "mimetype": "text/x-python",
   "name": "python",
   "nbconvert_exporter": "python",
   "pygments_lexer": "ipython3",
   "version": "3.9.7"
  }
 },
 "nbformat": 4,
 "nbformat_minor": 2
}
