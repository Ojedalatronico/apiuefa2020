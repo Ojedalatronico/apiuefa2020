{
 "cells": [
  {
   "cell_type": "code",
   "execution_count": 2,
   "metadata": {},
   "outputs": [],
   "source": [
    "import pandas as pd\n",
    "import ast\n",
    "df = pd.read_csv(\"euros2020_results.csv\")"
   ]
  },
  {
   "cell_type": "markdown",
   "metadata": {},
   "source": [
    "df"
   ]
  },
  {
   "cell_type": "code",
   "execution_count": 11,
   "metadata": {},
   "outputs": [],
   "source": [
    "df[\"stage\"] = df[\"stage\"].str.strip()\n",
    "df[\"date\"] = df[\"date\"].str.strip()\n",
    "df[\"team_name_home\"] = df[\"team_name_home\"].str.strip()\n",
    "df[\"team_name_away\"] = df[\"team_name_away\"].str.strip()\n",
    "df[\"possession_away\"] = df[\"possession_away\"].str.strip()\n",
    "df[\"possession_home\"] = df[\"possession_home\"].str.strip()\n",
    "\n",
    "df.to_csv(\"euros2020_results_cleaned.csv\")"
   ]
  },
  {
   "cell_type": "code",
   "execution_count": 4,
   "metadata": {},
   "outputs": [],
   "source": [
    "def str_to_dict(variable:str):\n",
    "    lista=[]\n",
    "    result=df[variable]\n",
    "    for i in range(len(result)):\n",
    "        a=ast.literal_eval(result[i])\n",
    "        lista.append(a)\n",
    "    return lista"
   ]
  },
  {
   "cell_type": "code",
   "execution_count": 5,
   "metadata": {},
   "outputs": [],
   "source": [
    "df[\"events_list\"]=str_to_dict(\"events_list\")"
   ]
  },
  {
   "cell_type": "code",
   "execution_count": 6,
   "metadata": {},
   "outputs": [],
   "source": [
    "df[\"lineup_home\"]=str_to_dict(\"lineup_home\")"
   ]
  },
  {
   "cell_type": "code",
   "execution_count": 7,
   "metadata": {},
   "outputs": [],
   "source": [
    "df[\"lineup_away\"]=str_to_dict(\"lineup_away\")"
   ]
  },
  {
   "cell_type": "code",
   "execution_count": 8,
   "metadata": {},
   "outputs": [],
   "source": [
    "df.to_csv(\"euros2020_results_cleaned.csv\")"
   ]
  }
 ],
 "metadata": {
  "interpreter": {
   "hash": "b40eb3be7522eaa5356a91787a3fbfed839dfa590a53e554cdf25f34f5f2178a"
  },
  "kernelspec": {
   "display_name": "Python 3 (ipykernel)",
   "language": "python",
   "name": "python3"
  },
  "language_info": {
   "codemirror_mode": {
    "name": "ipython",
    "version": 3
   },
   "file_extension": ".py",
   "mimetype": "text/x-python",
   "name": "python",
   "nbconvert_exporter": "python",
   "pygments_lexer": "ipython3",
   "version": "3.9.7"
  }
 },
 "nbformat": 4,
 "nbformat_minor": 2
}
